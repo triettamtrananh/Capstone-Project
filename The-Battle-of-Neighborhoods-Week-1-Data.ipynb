{
 "cells": [
  {
   "cell_type": "markdown",
   "metadata": {},
   "source": [
    "# Capstone Project - The Battle of Neighborhoods (Week 1)"
   ]
  },
  {
   "cell_type": "markdown",
   "metadata": {},
   "source": [
    "#### Table of Content:\n",
    "1. Introduction/Business Problem \n",
    "2. Data"
   ]
  },
  {
   "cell_type": "markdown",
   "metadata": {},
   "source": [
    "1. Introduction/Business Problem"
   ]
  },
  {
   "cell_type": "markdown",
   "metadata": {},
   "source": [
    "Chicago has often been in national headlines for fluctuations in violent crime. The south side of Chicago is notoriously known for being riddled with high violent crime rates. In particular, Chicago was in the nation's spotlight in 2016 for raising the nation’s crime rate overall because of the large uptick in crimes from 2015 to 2016. There is a speculation that the significant jump in violent crime circled around the case involving Laquan Mcdonald and the subsequent release of the video that recorded the incident. \n",
    "\n",
    "By analyzing the data, I am interested in finding out any possible correlation between certain key variables that lead to predictive behaviors. Criminology theories suggest that certain types of sociological parameters such as income or presence of authority can play a role to determine and predispose people to commit crimes. In addition, I will visualize and confirm the uptick in crime rate and where/when crime is happening in Chicago."
   ]
  },
  {
   "cell_type": "markdown",
   "metadata": {},
   "source": [
    "2. Data"
   ]
  },
  {
   "cell_type": "markdown",
   "metadata": {},
   "source": [
    "I used the Chicago crime dataset from Kaggle spanning from 2012 - 2017. The data included information such as date/time when the crime happened, block where the crime occurred, type of crime, location description, whether there was an arrest, and location coordinates.\n",
    "\n",
    "I removed data from 2017 as this data was not complete for the whole year so in any year over year analysis, this would have made for an inaccurate comparison. Some additional columns I added were for the type of charge (felony or misdemeanor) the crime fell under in Chicago, general location buckets based off the location description, and also some parts of date and time parsed out in order to view the data by different aspects of time such as year, month, hour, etc.\n",
    "\n",
    "In addition, I generated different visualization methods for analysis.\n",
    "1. Heatmap (a map of Chicago that visualizes density of crime in different areas filtering by charge (misdemeanor or felony), location, and year range)\n",
    "2. Cluster Map (a map that visualizes crime by showing crime counts clustered by area. When you zoom into a specific location/pin, you are able to see the crime type, date of crime, whether an arrest was made, and type of location.)"
   ]
  }
 ],
 "metadata": {
  "kernelspec": {
   "display_name": "Python 3.6",
   "language": "python",
   "name": "python3"
  },
  "language_info": {
   "codemirror_mode": {
    "name": "ipython",
    "version": 3
   },
   "file_extension": ".py",
   "mimetype": "text/x-python",
   "name": "python",
   "nbconvert_exporter": "python",
   "pygments_lexer": "ipython3",
   "version": "3.6.8"
  }
 },
 "nbformat": 4,
 "nbformat_minor": 1
}
