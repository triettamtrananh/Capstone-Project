{
 "cells": [
  {
   "cell_type": "markdown",
   "metadata": {},
   "source": [
    "# Capstone Project - The Battle of Neighborhoods (Week 1)"
   ]
  },
  {
   "cell_type": "markdown",
   "metadata": {},
   "source": [
    "Introduction/Business Problem "
   ]
  },
  {
   "cell_type": "markdown",
   "metadata": {},
   "source": [
    "Chicago has often been in national headlines for fluctuations in violent crime. The south side of Chicago is notoriously known for being riddled with high violent crime rates. In particular, Chicago was in the nation's spotlight in 2016 for raising the nation’s crime rate overall because of the large uptick in crimes from 2015 to 2016. There is a speculation that the significant jump in violent crime circled around the case involving Laquan Mcdonald and the subsequent release of the video that recorded the incident. \n",
    "\n",
    "By analyzing the data, I am interested in finding out any possible correlation between certain key variables that lead to predictive behaviors. Criminology theories suggest that certain types of sociological parameters such as income or presence of authority can play a role to determine and predispose people to commit crimes. In addition, I will visualize and confirm the uptick in crime rate and where/when crime is happening in Chicago."
   ]
  },
  {
   "cell_type": "code",
   "execution_count": null,
   "metadata": {},
   "outputs": [],
   "source": []
  }
 ],
 "metadata": {
  "kernelspec": {
   "display_name": "Python 3.6",
   "language": "python",
   "name": "python3"
  },
  "language_info": {
   "codemirror_mode": {
    "name": "ipython",
    "version": 3
   },
   "file_extension": ".py",
   "mimetype": "text/x-python",
   "name": "python",
   "nbconvert_exporter": "python",
   "pygments_lexer": "ipython3",
   "version": "3.6.8"
  }
 },
 "nbformat": 4,
 "nbformat_minor": 1
}
